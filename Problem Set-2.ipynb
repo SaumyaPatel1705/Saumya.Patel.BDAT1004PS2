{
 "cells": [
  {
   "cell_type": "markdown",
   "id": "5e46cabf",
   "metadata": {},
   "source": [
    "# Question-1 Consider the following Python module:"
   ]
  },
  {
   "cell_type": "code",
   "execution_count": 1,
   "id": "4f10fda8",
   "metadata": {},
   "outputs": [],
   "source": [
    "a = 0\n",
    "\n",
    "def b():\n",
    "    global a\n",
    "    a = c(a)\n",
    "    \n",
    "def c(a):\n",
    "    return a + 2"
   ]
  },
  {
   "cell_type": "markdown",
   "id": "545d4f5e",
   "metadata": {},
   "source": [
    "## After importing the module into the interpreter, you execute"
   ]
  },
  {
   "cell_type": "code",
   "execution_count": 2,
   "id": "b4294014",
   "metadata": {},
   "outputs": [
    {
     "data": {
      "text/plain": [
       "6"
      ]
     },
     "execution_count": 2,
     "metadata": {},
     "output_type": "execute_result"
    }
   ],
   "source": [
    "b()\n",
    "b()\n",
    "b()\n",
    "a"
   ]
  },
  {
   "cell_type": "markdown",
   "id": "53bc71ed",
   "metadata": {},
   "source": [
    "## What value is displayed when the last expression (a) is evaluated? Explain your answer by indicating what happens in every executed statement.\n",
    "## Answer: \n",
    "### a = 0: This assigns the value 0 to the variable a.\n",
    "### def b():: This defines a function named b.\n",
    "### global a: This tells the function that the variable a is a global variable, not a local variable.\n",
    "### a = c(a): This calls the function c with the current value of a (which is 0) as an argument, and assigns the returned value (2) to a.\n",
    "### def c(a):: This defines a function named c that takes a single argument a.\n",
    "### return a + 2: This returns the value of a plus 2.\n",
    "### b(): This calls the function b, which updates the value of a to 2.\n",
    "### b(): This calls the function b again, which updates the value of a to 4.\n",
    "### b(): This calls the function b again, which updates the value of a to 6.\n",
    "### a: This expression evaluates to the current value of a, which is 6."
   ]
  },
  {
   "cell_type": "markdown",
   "id": "e8620b2e",
   "metadata": {},
   "source": [
    "# Question-2 Function fileLength(), given to you, takes the name of a file as input and returns the length of the file:"
   ]
  },
  {
   "cell_type": "markdown",
   "id": "7360a9f3",
   "metadata": {},
   "source": [
    "##  >>> fileLength('midterm.py')<br> 284 <br> >>> fileLength('idterm.py')<br> Traceback (most recent call last):<br> File \"<pyshell#34>\", line 1, in \\<module\\><br> fileLength('idterm.py')<br> File \"/Users/me/midterm.py\", line 3, in<br> fileLength<br> infile = open(filename)<br> FileNotFoundError: [Errno 2] No such file or directory:<br> 'idterm.py'<br>\n",
    "\n",
    "## As shown above, if the file cannot be found by the interpreter or if it cannot be read<br> as a text file, an exception will be raised.<br> Modify function fileLength() so that a <br>friendly message is printed instead: "
   ]
  },
  {
   "cell_type": "code",
   "execution_count": 19,
   "id": "dc0e4da6",
   "metadata": {},
   "outputs": [
    {
     "name": "stdout",
     "output_type": "stream",
     "text": [
      "124\n"
     ]
    }
   ],
   "source": [
    "import Filelength\n",
    "\n",
    "Filelength.fileLength('midterm.py')"
   ]
  },
  {
   "cell_type": "code",
   "execution_count": 2,
   "id": "b502146d",
   "metadata": {},
   "outputs": [
    {
     "name": "stdout",
     "output_type": "stream",
     "text": [
      " File idterm.py not found.\n"
     ]
    }
   ],
   "source": [
    "Filelength.fileLength('idterm.py')"
   ]
  },
  {
   "cell_type": "markdown",
   "id": "bf675b2e",
   "metadata": {},
   "source": [
    "# Question-3 Write a class named Marsupial that can be used as shown below:"
   ]
  },
  {
   "cell_type": "code",
   "execution_count": 20,
   "id": "b320429d",
   "metadata": {},
   "outputs": [
    {
     "data": {
      "text/plain": [
       "['doll', 'firetruck', 'kitten']"
      ]
     },
     "execution_count": 20,
     "metadata": {},
     "output_type": "execute_result"
    }
   ],
   "source": [
    "class Marsupial:\n",
    "    def __init__(self):\n",
    "        self.listFile = []\n",
    "\n",
    "    def put_in_pouch(self, a):\n",
    "        self.listFile.append(a)\n",
    "\n",
    "    def pouch_contents(self):\n",
    "        return self.listFile\n",
    "\n",
    "\n",
    "class Kangaroo(Marsupial):\n",
    "    def __init__(self, x, y):\n",
    "        super().__init__()\n",
    "        self.x = x\n",
    "        self.y = y\n",
    "\n",
    "    def jump(self, dx, dy):\n",
    "        self.x += dx\n",
    "        self.y += dy\n",
    "\n",
    "    def __str__(self):\n",
    "        return f\"I am a Kangaroo located at coordinates ({self.x}, {self.y})\"\n",
    "\n",
    "m = Marsupial()\n",
    "m.put_in_pouch('doll')\n",
    "m.put_in_pouch('firetruck')\n",
    "m.put_in_pouch('kitten')\n",
    "m.pouch_contents()"
   ]
  },
  {
   "cell_type": "markdown",
   "id": "2f91a22f",
   "metadata": {},
   "source": [
    "## Now write a class named Kangaroo as a subclass of Marsupial that inherits all the attributes of Marsupial and also:\n",
    "\n",
    "## a. extends the Marsupial __init__ constructor to take, as input, the coordinates x and y of the Kangaroo object,<br><br> b. supports method jump that takes number values dx and dy as input and moves the kangaroo by dx units along the x-axis and by dy units along the y-axis, and<br><br> c. overloads the __str__ operator so it behaves as shown below."
   ]
  },
  {
   "cell_type": "code",
   "execution_count": 4,
   "id": "384edf83",
   "metadata": {},
   "outputs": [
    {
     "name": "stdout",
     "output_type": "stream",
     "text": [
      "I am a Kangaroo located at coordinates (0, 0)\n",
      "['doll', 'firetruck', 'kitten']\n",
      "I am a Kangaroo located at coordinates (3, 0)\n"
     ]
    }
   ],
   "source": [
    "k = Kangaroo(0, 0)\n",
    "print(k)\n",
    "k.put_in_pouch('doll')\n",
    "k.put_in_pouch('firetruck')\n",
    "k.put_in_pouch('kitten')\n",
    "print(k.pouch_contents()) \n",
    "k.jump(1, 0)\n",
    "k.jump(1, 0)\n",
    "k.jump(1, 0)\n",
    "print(k)"
   ]
  },
  {
   "cell_type": "markdown",
   "id": "569fc6f3",
   "metadata": {},
   "source": [
    "# Question-4 : Write function collatz() that takes a positive integer x as input and prints the Collatz sequence starting at x. A Collatz sequence is obtained by repeatedly applying this rule to the previous number x in the sequence:\n",
    "\n",
    "![Question-4.png](Question-4.png)\n",
    "    \n",
    "# Your function should stop when the sequence gets to number 1. Your implementation must be recursive, without any loops."
   ]
  },
  {
   "cell_type": "code",
   "execution_count": 5,
   "id": "e2388b73",
   "metadata": {},
   "outputs": [],
   "source": [
    "def collatz(x):\n",
    "    print(x)\n",
    "    if x<= 0:\n",
    "        print(\"Enter Positive number only.\")\n",
    "        return\n",
    "    elif x == 1:\n",
    "        return\n",
    "    elif x % 2 == 0:\n",
    "        a = x // 2\n",
    "        collatz(a)\n",
    "    else:\n",
    "        a = (3 * x) + 1\n",
    "        collatz(a)"
   ]
  },
  {
   "cell_type": "code",
   "execution_count": 6,
   "id": "f0074d91",
   "metadata": {},
   "outputs": [
    {
     "name": "stdout",
     "output_type": "stream",
     "text": [
      "Enter the number: 15\n",
      "15\n",
      "46\n",
      "23\n",
      "70\n",
      "35\n",
      "106\n",
      "53\n",
      "160\n",
      "80\n",
      "40\n",
      "20\n",
      "10\n",
      "5\n",
      "16\n",
      "8\n",
      "4\n",
      "2\n",
      "1\n"
     ]
    }
   ],
   "source": [
    "try:\n",
    "    x = int(input(\"Enter the number: \"))\n",
    "    collatz(x)\n",
    "except Exception as e:\n",
    "    print('Error: ' + str(e))\n"
   ]
  },
  {
   "cell_type": "markdown",
   "id": "b8a4f3f4",
   "metadata": {},
   "source": [
    "# Question - 5: Write a recursive method binary() that takes a non-negative integer n and prints the binary representation of integer n."
   ]
  },
  {
   "cell_type": "code",
   "execution_count": 7,
   "id": "13204017",
   "metadata": {},
   "outputs": [
    {
     "name": "stdout",
     "output_type": "stream",
     "text": [
      "binary(0) = 0\n",
      "\n",
      "binary(15) = 1111\n",
      "\n",
      "binary(27) = 11011\n",
      "\n",
      "binary(44) = 101100"
     ]
    }
   ],
   "source": [
    "global temp\n",
    "temp = \"\"\n",
    "\n",
    "def binary(n):\n",
    "    x = n\n",
    "    if x > 1:\n",
    "        binary(x // 2)\n",
    "    print(x % 2, end=\"\")\n",
    "\n",
    "    \n",
    "print(\"binary(0) = \", end=\"\")\n",
    "binary(0)\n",
    "print(\"\\n\")\n",
    "print(\"binary(15) = \", end=\"\")\n",
    "binary(15)\n",
    "print(\"\\n\")\n",
    "print(\"binary(27) = \", end=\"\")\n",
    "binary(27)\n",
    "print(\"\\n\")\n",
    "print(\"binary(44) = \", end=\"\")\n",
    "binary(44)"
   ]
  },
  {
   "cell_type": "markdown",
   "id": "d23d62ac",
   "metadata": {},
   "source": [
    "# Question - 6: Implement a class named HeadingParser that can be used to parse an HTML document, and retrieve and print all the headings in the document. You should implement your class as a subclass of HTMLParser, defined in Standard Library module html.parser. When fed a string containing HTML code, your class should print the headings, one per line and in the order in which they appear in the document. Each heading should be indented as follows: an h1 heading should have indentation 0, and h2 heading should have indentation 1, etc. Test your implementation using w3c.html."
   ]
  },
  {
   "cell_type": "code",
   "execution_count": 17,
   "id": "c1b3ba3b",
   "metadata": {},
   "outputs": [
    {
     "name": "stdout",
     "output_type": "stream",
     "text": [
      "W3C Mission\n",
      "  Principles\n"
     ]
    }
   ],
   "source": [
    "from html.parser import HTMLParser\n",
    "\n",
    "class HeadingParser(HTMLParser):\n",
    "    def __init__(self):\n",
    "        super().__init__()\n",
    "        self.heading_level = 0\n",
    "        self.in_heading = False\n",
    "    \n",
    "    def handle_starttag(self, tag, attrs):\n",
    "        if tag.startswith('h') and len(tag) == 2:\n",
    "            self.heading_level = int(tag[1])\n",
    "            self.in_heading = True\n",
    "    \n",
    "    def handle_endtag(self, tag):\n",
    "        if tag.startswith('h') and len(tag) == 2:\n",
    "            self.heading_level = 0\n",
    "            self.in_heading = False\n",
    "    \n",
    "    def handle_data(self, data):\n",
    "        if self.in_heading:\n",
    "            indent = ' ' * (self.heading_level - 1)\n",
    "            print(f\"{indent}{data}\")\n",
    "\n",
    "            \n",
    "infile = open('w3c.html')\n",
    "content = infile.read()\n",
    "infile.close()\n",
    "\n",
    "hp = HeadingParser()\n",
    "hp.feed(content)\n"
   ]
  },
  {
   "cell_type": "markdown",
   "id": "3f8af380",
   "metadata": {},
   "source": [
    "#  Question - 7: Implement recursive function webdir() that takes as input: a URL (as a string) and non-negative integers depth and indent. Your function should visit every web page reachable from the starting URL web page in depth clicks or less, and print each web page's URL. As shown below, indentation, specified by indent, should be used to indicate the depth of a URL."
   ]
  },
  {
   "cell_type": "code",
   "execution_count": 10,
   "id": "2702e394",
   "metadata": {},
   "outputs": [
    {
     "name": "stdout",
     "output_type": "stream",
     "text": [
      "https://beta.reactjs.org/\n",
      " https://opensource.fb.com/support-ukraine\n",
      " https://beta.reactjs.org/learn\n",
      " https://beta.reactjs.org/reference/react\n",
      " https://beta.reactjs.org/learn/installation\n",
      " https://beta.reactjs.org/learn/start-a-new-react-project\n",
      " https://beta.reactjs.org/learn/add-react-to-a-website\n",
      " https://beta.reactjs.org/learn/editor-setup\n",
      " https://beta.reactjs.org/learn/react-developer-tools\n",
      " https://beta.reactjs.org/learn/tutorial-tic-tac-toe\n",
      " https://beta.reactjs.org/learn/thinking-in-react\n",
      " https://beta.reactjs.org/learn/describing-the-ui\n",
      " https://beta.reactjs.org/learn/your-first-component\n",
      " https://beta.reactjs.org/learn/importing-and-exporting-components\n",
      " https://beta.reactjs.org/learn/writing-markup-with-jsx\n",
      " https://beta.reactjs.org/learn/javascript-in-jsx-with-curly-braces\n",
      " https://beta.reactjs.org/learn/passing-props-to-a-component\n",
      " https://beta.reactjs.org/learn/conditional-rendering\n",
      " https://beta.reactjs.org/learn/rendering-lists\n",
      " https://beta.reactjs.org/learn/keeping-components-pure\n",
      " https://beta.reactjs.org/learn/adding-interactivity\n",
      " https://beta.reactjs.org/learn/responding-to-events\n",
      " https://beta.reactjs.org/learn/state-a-components-memory\n",
      " https://beta.reactjs.org/learn/render-and-commit\n",
      " https://beta.reactjs.org/learn/state-as-a-snapshot\n",
      " https://beta.reactjs.org/learn/queueing-a-series-of-state-updates\n",
      " https://beta.reactjs.org/learn/updating-objects-in-state\n",
      " https://beta.reactjs.org/learn/updating-arrays-in-state\n",
      " https://beta.reactjs.org/learn/managing-state\n",
      " https://beta.reactjs.org/learn/reacting-to-input-with-state\n",
      " https://beta.reactjs.org/learn/choosing-the-state-structure\n",
      " https://beta.reactjs.org/learn/sharing-state-between-components\n",
      " https://beta.reactjs.org/learn/preserving-and-resetting-state\n",
      " https://beta.reactjs.org/learn/extracting-state-logic-into-a-reducer\n",
      " https://beta.reactjs.org/learn/passing-data-deeply-with-context\n",
      " https://beta.reactjs.org/learn/scaling-up-with-reducer-and-context\n",
      " https://beta.reactjs.org/learn/escape-hatches\n",
      " https://beta.reactjs.org/learn/referencing-values-with-refs\n",
      " https://beta.reactjs.org/learn/manipulating-the-dom-with-refs\n",
      " https://beta.reactjs.org/learn/synchronizing-with-effects\n",
      " https://beta.reactjs.org/learn/you-might-not-need-an-effect\n",
      " https://beta.reactjs.org/learn/lifecycle-of-reactive-effects\n",
      " https://beta.reactjs.org/learn/separating-events-from-effects\n",
      " https://beta.reactjs.org/learn/removing-effect-dependencies\n",
      " https://beta.reactjs.org/learn/reusing-logic-with-custom-hooks\n",
      " https://beta.reactjs.org/community\n",
      " https://beta.reactjs.org/community/conferences\n",
      " https://beta.reactjs.org/community/meetups\n",
      " https://beta.reactjs.org/community/videos\n",
      " https://beta.reactjs.org/community/team\n",
      " https://beta.reactjs.org/community/docs-contributors\n",
      " https://beta.reactjs.org/community/acknowledgements\n",
      " https://beta.reactjs.org/community/versioning-policy\n",
      " https://beta.reactjs.org/blog\n",
      " https://beta.reactjs.org/blog/2022/06/15/react-labs-what-we-have-been-working-on-june-2022\n",
      " https://beta.reactjs.org/blog/2022/03/29/react-v18\n",
      " https://beta.reactjs.org/blog/2022/03/08/react-18-upgrade-guide\n",
      " https://beta.reactjs.org/blog/2021/12/17/react-conf-2021-recap\n",
      " https://beta.reactjs.org/blog/2021/06/08/the-plan-for-react-18\n",
      " https://beta.reactjs.org/blog/2020/12/21/data-fetching-with-react-server-components\n",
      " https://reactjs.org/blog/all.html\n",
      " https://beta.reactjs.org/#what-is-this-site\n",
      " https://beta.reactjs.org/#how-much-content-is-ready\n",
      " https://github.com/reactjs/reactjs.org/issues/3308\n",
      " https://beta.reactjs.org/#how-can-i-provide-feedback\n",
      " https://www.surveymonkey.co.uk/r/PYRPF3X\n",
      " https://beta.reactjs.org/#will-this-site-replace-the-main-site\n",
      " https://reactjs.org/\n",
      " https://opensource.fb.com/\n",
      " https://beta.reactjs.org/reference/react-dom\n",
      " https://github.com/facebook/react/blob/main/CODE_OF_CONDUCT.md\n",
      " https://reactjs.org/blog\n",
      " https://reactnative.dev/\n",
      " https://opensource.facebook.com/legal/privacy\n",
      " https://opensource.fb.com/legal/terms/\n",
      " https://www.facebook.com/react\n",
      " https://twitter.com/reactjs\n",
      " https://github.com/facebook/react\n"
     ]
    }
   ],
   "source": [
    "from urllib.request import urlopen\n",
    "from urllib.parse import urljoin\n",
    "from html.parser import HTMLParser\n",
    "\n",
    "\n",
    "class Collector(HTMLParser):\n",
    "    'collects hyperlink URLs into a list'\n",
    "\n",
    "    def __init__(self, url):\n",
    "        HTMLParser.__init__(self)\n",
    "        self.url = url\n",
    "        self.links = []\n",
    "\n",
    "    def handle_starttag(self, tag, attrs):\n",
    "        if tag == 'a':\n",
    "            for attr in attrs:\n",
    "                if attr[0] == 'href':\n",
    "                    absolute = urljoin(self.url, attr[1])\n",
    "                    if absolute[:4] == 'http':  # collect HTTP URLs\n",
    "                        self.links.append(absolute)\n",
    "\n",
    "    def getLinks(self):\n",
    "        return self.links\n",
    "\n",
    "\n",
    "visited = set()\n",
    "\n",
    "\n",
    "def webdir(url, depth, indent):\n",
    "    global visited\n",
    "    if depth == 0:\n",
    "        return\n",
    "    if url in visited:\n",
    "        return\n",
    "    visited.add(url)\n",
    "    print(' ' * indent + url)\n",
    "    try:\n",
    "        content = urlopen(url).read().decode()\n",
    "    except:\n",
    "        return\n",
    "    collector = Collector(url)\n",
    "    collector.feed(content)\n",
    "    links = collector.getLinks()\n",
    "    for link in links:\n",
    "        webdir(link, depth - 1, indent + 1)\n",
    "\n",
    "webdir('https://beta.reactjs.org/', 2, 0)\n"
   ]
  },
  {
   "cell_type": "markdown",
   "id": "832b281e",
   "metadata": {},
   "source": [
    "# Question - 8: Write SQL queries on the below database table that return:"
   ]
  },
  {
   "cell_type": "markdown",
   "id": "43bf216b",
   "metadata": {},
   "source": [
    "#  a) All the temperature data.\n",
    "## &nbsp;&nbsp;&nbsp;&nbsp;SELECT Temperature FROM tblTemperature;\n",
    "# b) All the cities, but without repetition.\n",
    "## &nbsp;&nbsp;&nbsp;&nbsp;SELECT DISTINCT City FROM tblTemperature;\n",
    "# c) All the records for India.\n",
    "## &nbsp;&nbsp;&nbsp;&nbsp;SELECT * FROM tblTemperature WHERE Country='India';\n",
    "# d) All the Fall records.\n",
    "## &nbsp;&nbsp;&nbsp;&nbsp;SELECT * FROM tblTemperature WHERE Season='Fall';\n",
    "# e) The city, country, and season for which the average rainfall is between 200 and 400 millimeters.\n",
    "## &nbsp;&nbsp;&nbsp;&nbsp;SELECT City, Country, Season FROM tblTemperature WHERE Rainfall BETWEEN 200 AND 400;\n",
    "# f) The city and country for which the average Fall temperature is above 20 degrees, in increasing temperature order.\n",
    "## &nbsp;&nbsp;&nbsp;&nbsp;SELECT City, Country FROM tblTemperature WHERE Season='Fall' AND Temperature > 20 ORDER BY Temperature ASC;\n",
    "# g) The total annual rainfall for Cairo.\n",
    "## &nbsp;&nbsp;&nbsp;&nbsp;SELECT SUM(Rainfall) FROM tblTemperature WHERE City='Cairo';\n",
    "# h) The total rainfall for each season.\n",
    "## &nbsp;&nbsp;&nbsp;&nbsp;SELECT Season, SUM(Rainfall) FROM tblTemperature GROUP BY Season;"
   ]
  },
  {
   "cell_type": "markdown",
   "id": "a47ce951",
   "metadata": {},
   "source": [
    "# Question - 9: Suppose list words is defined as follows:"
   ]
  },
  {
   "cell_type": "code",
   "execution_count": 11,
   "id": "2cb8bf02",
   "metadata": {},
   "outputs": [],
   "source": [
    "words = ['The', 'quick', 'brown', 'fox', 'jumps', 'over','the', 'lazy', 'dog']"
   ]
  },
  {
   "cell_type": "markdown",
   "id": "f0dccf52",
   "metadata": {},
   "source": [
    "# Write list comprehension expressions that use list words and generate the following lists: "
   ]
  },
  {
   "cell_type": "markdown",
   "id": "125f6fdd",
   "metadata": {},
   "source": [
    "## a) ['THE', 'QUICK', 'BROWN', 'FOX', 'JUMPS', 'OVER', 'THE', 'LAZY', 'DOG']"
   ]
  },
  {
   "cell_type": "code",
   "execution_count": 12,
   "id": "1a3a36b8",
   "metadata": {},
   "outputs": [
    {
     "name": "stdout",
     "output_type": "stream",
     "text": [
      "['THE', 'QUICK', 'BROWN', 'FOX', 'JUMPS', 'OVER', 'THE', 'LAZY', 'DOG']\n"
     ]
    }
   ],
   "source": [
    "lst1 = []\n",
    "for word in words:\n",
    "    lst1.append(word.upper())\n",
    "print(lst1)"
   ]
  },
  {
   "cell_type": "markdown",
   "id": "6b43df15",
   "metadata": {},
   "source": [
    "## b) ['the', 'quick', 'brown', 'fox', 'jumps', 'over', 'the', 'lazy', 'dog']"
   ]
  },
  {
   "cell_type": "code",
   "execution_count": 13,
   "id": "479e8af7",
   "metadata": {},
   "outputs": [
    {
     "name": "stdout",
     "output_type": "stream",
     "text": [
      "['the', 'quick', 'brown', 'fox', 'jumps', 'over', 'the', 'lazy', 'dog']\n"
     ]
    }
   ],
   "source": [
    "lst2 = []\n",
    "for word in words:\n",
    "    lst2.append(word.lower())\n",
    "print(lst2)"
   ]
  },
  {
   "cell_type": "markdown",
   "id": "389ba54a",
   "metadata": {},
   "source": [
    "## c) [3, 5, 5, 3, 5, 4, 3, 4, 3] (the list of lengths of words in list words)."
   ]
  },
  {
   "cell_type": "code",
   "execution_count": 14,
   "id": "a4f4c040",
   "metadata": {},
   "outputs": [
    {
     "name": "stdout",
     "output_type": "stream",
     "text": [
      "[3, 5, 5, 3, 5, 4, 3, 4, 3]\n"
     ]
    }
   ],
   "source": [
    "lst3 = []\n",
    "for word in words:\n",
    "    lst3.append(len(word))\n",
    "print(lst3)"
   ]
  },
  {
   "cell_type": "markdown",
   "id": "55c062e3",
   "metadata": {},
   "source": [
    "## d) [['THE', 'the', 3], ['QUICK', 'quick', 5], ['BROWN', 'brown', 5], ['FOX', 'fox', 3], ['JUMPS', 'jumps', 5],['OVER', 'over', 4], ['THE', 'the', 3], ['LAZY', 'lazy', 4], ['DOG', 'dog', 3]] (the list containing a list for every word of list words, where each list contains the word in uppercase and lowercase and the length of the word.)"
   ]
  },
  {
   "cell_type": "code",
   "execution_count": 16,
   "id": "c9e810c1",
   "metadata": {},
   "outputs": [
    {
     "name": "stdout",
     "output_type": "stream",
     "text": [
      "[['THE', 'the', 3], ['QUICK', 'quick', 5], ['BROWN', 'brown', 5], ['FOX', 'fox', 3], ['JUMPS', 'jumps', 5], ['OVER', 'over', 4], ['THE', 'the', 3], ['LAZY', 'lazy', 4], ['DOG', 'dog', 3]]\n"
     ]
    }
   ],
   "source": [
    "lst4 = []\n",
    "for word in words:\n",
    "    lstTemp = []\n",
    "    lstTemp.append(word.upper())\n",
    "    lstTemp.append(word.lower())\n",
    "    lstTemp.append(len(word))\n",
    "    lst4.append(lstTemp)\n",
    "print(lst4)"
   ]
  },
  {
   "cell_type": "markdown",
   "id": "b360e2a9",
   "metadata": {},
   "source": [
    "## e) ['The', 'quick', 'brown', 'fox', 'jumps', 'over', 'the', 'lazy', 'dog'] (the list of words in list words containing 4 or more characters.)"
   ]
  },
  {
   "cell_type": "code",
   "execution_count": 27,
   "id": "7b55629a",
   "metadata": {},
   "outputs": [
    {
     "name": "stdout",
     "output_type": "stream",
     "text": [
      "['quick', 'brown', 'jumps', 'over', 'lazy']\n"
     ]
    }
   ],
   "source": [
    "lst5 = []\n",
    "for word in words:\n",
    "    if len(word) >= 4:\n",
    "        lst5.append(word)\n",
    "print(lst5)"
   ]
  }
 ],
 "metadata": {
  "kernelspec": {
   "display_name": "Python 3 (ipykernel)",
   "language": "python",
   "name": "python3"
  },
  "language_info": {
   "codemirror_mode": {
    "name": "ipython",
    "version": 3
   },
   "file_extension": ".py",
   "mimetype": "text/x-python",
   "name": "python",
   "nbconvert_exporter": "python",
   "pygments_lexer": "ipython3",
   "version": "3.9.13"
  }
 },
 "nbformat": 4,
 "nbformat_minor": 5
}
